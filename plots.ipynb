{
 "cells": [
  {
   "cell_type": "code",
   "execution_count": 151,
   "metadata": {},
   "outputs": [],
   "source": [
    "import numpy as np\n",
    "import matplotlib.pyplot as plt\n",
    "from itertools import cycle\n",
    "from evaluate import evaluate, run_model\n",
    "\n",
    "from sklearn import svm, datasets\n",
    "from sklearn.metrics import roc_curve, auc\n",
    "from sklearn.model_selection import train_test_split\n",
    "from sklearn.preprocessing import label_binarize\n",
    "from sklearn.multiclass import OneVsRestClassifier\n",
    "from scipy import interp\n",
    "\n",
    "import numpy as np\n",
    "import sklearn.metrics as metrics\n",
    "from sklearn.metrics import confusion_matrix, roc_auc_score\n",
    "from sklearn.utils.multiclass import unique_labels\n",
    "\n",
    "from sys import platform as sys_pf\n",
    "if sys_pf == 'darwin':\n",
    "    import matplotlib\n",
    "    matplotlib.use(\"TkAgg\")\n",
    "\n",
    "from matplotlib import pyplot as plt"
   ]
  },
  {
   "cell_type": "code",
   "execution_count": 76,
   "metadata": {},
   "outputs": [
    {
     "name": "stdout",
     "output_type": "stream",
     "text": [
      "100%|█████████████████████████████████████████| 120/120 [00:15<00:00,  7.57it/s]\n",
      "[0.   0.   0.   0.04 0.04 0.08 0.08 0.12 0.12 0.16 0.16 0.2  0.2  0.24\n",
      " 0.24 0.28 0.28 0.32 0.32 0.36 0.36 0.44 0.44 0.52 0.52 0.6  0.6  0.68\n",
      " 0.68 0.84 0.84 0.92 0.92 1.   1.  ]\n",
      "[0.         0.01052632 0.41052632 0.41052632 0.42105263 0.42105263\n",
      " 0.46315789 0.46315789 0.57894737 0.57894737 0.67368421 0.67368421\n",
      " 0.68421053 0.68421053 0.69473684 0.69473684 0.75789474 0.75789474\n",
      " 0.76842105 0.76842105 0.90526316 0.90526316 0.91578947 0.91578947\n",
      " 0.93684211 0.93684211 0.94736842 0.94736842 0.95789474 0.95789474\n",
      " 0.96842105 0.96842105 0.98947368 0.98947368 1.        ]\n",
      "test loss: 0.5020\n",
      "test AUC_abnormal: 0.8244\n"
     ]
    }
   ],
   "source": [
    "!python evaluate.py"
   ]
  },
  {
   "cell_type": "code",
   "execution_count": null,
   "metadata": {},
   "outputs": [],
   "source": [
    "fpr, tpr, thresholds = metrics.roc_curve(labels, preds)"
   ]
  },
  {
   "cell_type": "code",
   "execution_count": 78,
   "metadata": {},
   "outputs": [],
   "source": [
    "fpr = [0.,  0.,   0.,   0.04, 0.04, 0.08, 0.08, 0.12, 0.12, 0.16, 0.16, 0.2,  0.2, 0.24, 0.24, 0.28, 0.28, 0.32, 0.32, 0.36, 0.36, 0.44, 0.44, 0.52, 0.52, 0.6,  0.6,  0.68, 0.68, 0.84, 0.84, 0.92, 0.92, 1.,   1.  ]\n",
    "tpr = [0. ,        0.01052632, 0.41052632, 0.41052632, 0.42105263, 0.42105263,\n",
    " 0.46315789, 0.46315789, 0.57894737, 0.57894737, 0.67368421, 0.67368421,\n",
    " 0.68421053, 0.68421053, 0.69473684, 0.69473684, 0.75789474, 0.75789474,\n",
    " 0.76842105, 0.76842105, 0.90526316, 0.90526316, 0.91578947, 0.91578947,\n",
    " 0.93684211, 0.93684211, 0.94736842, 0.94736842, 0.95789474, 0.95789474,\n",
    " 0.96842105, 0.96842105, 0.98947368, 0.98947368, 1.        ]"
   ]
  },
  {
   "cell_type": "code",
   "execution_count": 82,
   "metadata": {},
   "outputs": [
    {
     "data": {
      "image/png": "[encoded data removed]",
      "text/plain": [
       "<Figure size 432x288 with 1 Axes>"
      ]
     },
     "metadata": {
      "needs_background": "light"
     },
     "output_type": "display_data"
    }
   ],
   "source": [
    "plt.figure()\n",
    "lw = 2\n",
    "plt.plot(fpr, tpr, color='darkorange',\n",
    "         lw=lw, label='ROC curve (area = %0.2f)' % 0.8244)\n",
    "plt.plot([0, 1], [0, 1], color='navy', lw=lw, linestyle='--')\n",
    "plt.xlim([0.0, 1.0])\n",
    "plt.ylim([0.0, 1.05])\n",
    "plt.xlabel('False Positive Rate')\n",
    "plt.ylabel('True Positive Rate')\n",
    "plt.title('Receiver operating characteristic example')\n",
    "plt.legend(loc=\"lower right\")\n",
    "plt.show()"
   ]
  },
  {
   "cell_type": "code",
   "execution_count": 196,
   "metadata": {},
   "outputs": [],
   "source": [
    "def plot_confusion_matrix(y_true, y_pred, classes, title,\n",
    "                          normalize=False,\n",
    "                          cmap=plt.cm.Blues):\n",
    "    \"\"\"\n",
    "    This function prints and plots the confusion matrix.\n",
    "    Normalization can be applied by setting `normalize=True`.\n",
    "    \"\"\"\n",
    "    if not title:\n",
    "        if normalize:\n",
    "            title = 'Normalized confusion matrix'\n",
    "        else:\n",
    "            title = title\n",
    "\n",
    "    # Compute confusion matrix\n",
    "    cm = confusion_matrix(y_true, y_pred)\n",
    "    # Only use the labels that appear in the data\n",
    "    #classes = classes[unique_labels(y_true, y_pred)]\n",
    "    classes = np.array([0,1])\n",
    "    if normalize:\n",
    "        cm = cm.astype('float') / cm.sum(axis=1)[:, np.newaxis]\n",
    "        print(\"Normalized confusion matrix\")\n",
    "    else:\n",
    "        print('Confusion matrix:')\n",
    "\n",
    "    print(cm)\n",
    "\n",
    "    fig, ax = plt.subplots()\n",
    "    im = ax.imshow(cm, interpolation='nearest', cmap=cmap)\n",
    "    ax.figure.colorbar(im, ax=ax)\n",
    "    # We want to show all ticks...\n",
    "    ax.set(xticks=np.arange(cm.shape[1]),\n",
    "           yticks=np.arange(cm.shape[0]),\n",
    "           # ... and label them with the respective list entries\n",
    "           xticklabels=classes, yticklabels=classes,\n",
    "           title=title,\n",
    "           ylabel='True label',\n",
    "           xlabel='Predicted label')\n",
    "    ax.tick_params(axis = 'both', which = 'major', labelsize = 16)\n",
    "    for item in ([ax.title, ax.xaxis.label, ax.yaxis.label] +\n",
    "             ax.get_xticklabels() + ax.get_yticklabels()):\n",
    "        item.set_fontsize(16)\n",
    "    # Rotate the tick labels and set their alignment.\n",
    "    plt.setp(ax.get_xticklabels(), rotation=45, ha=\"right\",\n",
    "             rotation_mode=\"anchor\")\n",
    "\n",
    "    # Loop over data dimensions and create text annotations.\n",
    "    fmt = '.2f' if normalize else 'd'\n",
    "    thresh = cm.max() / 2.\n",
    "    for i in range(cm.shape[0]):\n",
    "        for j in range(cm.shape[1]):\n",
    "            ax.text(j, i, format(cm[i, j], fmt),\n",
    "                    ha=\"center\", va=\"center\", fontsize=16,\n",
    "                    color=\"white\" if cm[i, j] > thresh else \"black\")\n",
    "    fig.tight_layout()\n",
    "    plt.show()\n",
    "    # plt.savefig(output_file)\n",
    "    return ax"
   ]
  },
  {
   "cell_type": "code",
   "execution_count": 177,
   "metadata": {},
   "outputs": [],
   "source": [
    "preds_triple = [[0.33151305, 0.02213098, 0.01899546],\n",
    " [0.33964676, 0.03957655, 0.07701965],\n",
    " [0.5604004,  0.0911556,  0.05028695],\n",
    " [0.25844544, 0.14812878, 0.03144024],\n",
    " [0.59217936, 0.0394745,  0.09335323],\n",
    " [0.6452492,  0.06321779, 0.2359394 ],\n",
    " [0.13740729, 0.02189718, 0.02165475],\n",
    " [0.97664934, 0.62941486, 0.904368  ],\n",
    " [0.935091,   0.6999608,  0.43075666],\n",
    " [0.4149725,  0.09828921, 0.08139341],\n",
    " [0.86893374, 0.33773604, 0.2889809 ],\n",
    " [0.92105913, 0.02020481, 0.50410116],\n",
    " [0.6760246,  0.0811607,  0.17463365],\n",
    " [0.73654115, 0.18118142, 0.21747509],\n",
    " [0.823545,   0.28177187, 0.16002612],\n",
    " [0.9395514,  0.068053,   0.11069974],\n",
    " [0.6141271, 0.07717526, 0.07152947],\n",
    " [0.521765,   0.10071888, 0.02004385],\n",
    " [0.8116981,  0.00924102, 0.1268268 ],\n",
    " [0.6124416,  0.25954586, 0.12314483],\n",
    " [0.61278135, 0.08256691, 0.18590628],\n",
    " [0.9751092,  0.08945301, 0.6334952 ],\n",
    " [0.31113416, 0.01541047, 0.0205222 ],\n",
    " [0.26984498, 0.05700581, 0.01989634],\n",
    " [0.7576105,  0.11077422, 0.15566151],\n",
    " [0.9891459,  0.07234037, 0.37432465],\n",
    " [0.9577943,  0.07521523, 0.07625099],\n",
    " [0.67917407, 0.02658351, 0.0564898 ],\n",
    " [0.91994804, 0.13782477, 0.14717673],\n",
    " [0.95313644, 0.10004061, 0.15094134],\n",
    " [0.9400413,  0.05588219, 0.28455055],\n",
    " [0.6949034,  0.09031749, 0.20407763],\n",
    " [0.9852657,  0.5971681, 0.3510399 ],\n",
    " [0.96703064, 0.07607277, 0.18818563],\n",
    " [0.67729896, 0.05779466, 0.05330487],\n",
    " [0.44003937, 0.08315849, 0.06332887],\n",
    " [0.9686803,  0.16992132, 0.5879316 ],\n",
    " [0.97605693, 0.13535379, 0.6350472 ],\n",
    " [0.83997023, 0.02214003, 0.23230405],\n",
    " [0.9037659,  0.02154731, 0.24503824],\n",
    " [0.9368409,  0.02618855, 0.14580679],\n",
    " [0.999108,   0.18698798, 0.5295034 ],\n",
    " [0.97812873, 0.17190954, 0.1543869 ],\n",
    " [0.95844615, 0.19991042, 0.30207142],\n",
    " [0.9814354,  0.85579336, 0.4546806 ],\n",
    " [0.90850705, 0.4866737,  0.37359437],\n",
    " [0.9877101,  0.8853992,  0.37172848],\n",
    " [0.9273776,  0.37957796, 0.22281267],\n",
    " [0.99206233, 0.25086313, 0.6900699 ],\n",
    " [0.98751765, 0.5512784,  0.3548489 ],\n",
    " [0.99520844, 0.13687778, 0.29326424],\n",
    " [0.9522826,  0.21235411, 0.38066444],\n",
    " [0.97403854, 0.75710154, 0.29946077],\n",
    " [0.9943098,  0.48278615, 0.8300228 ],\n",
    " [0.99636984, 0.42489395, 0.8350769 ],\n",
    " [0.9794693,  0.4154089, 0.2964378 ],\n",
    " [0.9774929,  0.57903373, 0.5125294 ],\n",
    " [0.99461764, 0.09633235, 0.87035584],\n",
    " [0.99672526, 0.5108303,  0.7950294 ],\n",
    " [0.9915792,  0.3602415,  0.82400775],\n",
    " [0.9629752,  0.5323003,  0.30548304],\n",
    " [0.9900428,  0.4349145,  0.58369714],\n",
    " [0.9624536,  0.5171248,  0.8554971 ],\n",
    " [0.9507273,  0.20793144, 0.5777249 ],\n",
    " [0.9982949,  0.75850713, 0.6452477 ],\n",
    " [0.99774396, 0.68383634, 0.44464162],\n",
    " [0.9995115,  0.37307978, 0.8265467 ],\n",
    " [0.9831519,  0.5309029,  0.3327078 ],\n",
    " [0.99114096, 0.8051164,  0.47680447],\n",
    " [0.9746002,  0.6898506,  0.23460102],\n",
    " [0.5637669,  0.4682283,  0.18664896],\n",
    " [0.945854,   0.68995214, 0.5329545 ],\n",
    " [0.9775553,  0.71356374, 0.6040528 ],\n",
    " [0.9996953,  0.8232684,  0.55475575],\n",
    " [0.9986878,  0.8476686,  0.61078763],\n",
    " [0.9975647,  0.40191418, 0.3537081 ],\n",
    " [0.99283946, 0.7525545,  0.40301007],\n",
    " [0.9844185,  0.8697529,  0.37100822],\n",
    " [0.9315521,  0.37367842, 0.43267393],\n",
    " [0.991987,   0.9054905,  0.63262   ],\n",
    " [0.9961055,  0.16352768, 0.5424838 ],\n",
    " [0.99964285, 0.3920553,  0.9021001 ],\n",
    " [0.72304076, 0.15400168, 0.10437658],\n",
    " [0.99791116, 0.9298439,  0.8291071 ],\n",
    " [0.99228525, 0.5999937,  0.29934043],\n",
    " [0.9870524,  0.73706704, 0.57710046],\n",
    " [0.99574006, 0.30777493, 0.68620247],\n",
    " [0.5638399,  0.03167547, 0.03533055],\n",
    " [0.9649415,  0.13077912, 0.1773129 ],\n",
    " [0.9748404,  0.22518341, 0.1559673 ],\n",
    " [0.9850869,  0.753898,   0.7243443 ],\n",
    " [0.9963574,  0.03763276, 0.8826011 ],\n",
    " [0.99131596, 0.2400235,  0.23389007],\n",
    " [0.997097,   0.12880611, 0.5691669 ],\n",
    " [0.9991435,  0.6050929,  0.7863778 ],\n",
    " [0.96808225, 0.71033144, 0.18094684],\n",
    " [0.99605346, 0.11089698, 0.6930776 ],\n",
    " [0.99661404, 0.68088764, 0.95805043],\n",
    " [0.9899795,  0.56985366, 0.92706233],\n",
    " [0.9456118,  0.15308645, 0.18157108],\n",
    " [0.9998124,  0.84701073, 0.9413121 ],\n",
    " [0.9993806,  0.36435354, 0.9076558 ],\n",
    " [0.9927134,  0.21923357, 0.57328516],\n",
    " [0.9929107,  0.07788148, 0.601713  ],\n",
    " [0.9805267,  0.28661337, 0.3452779 ],\n",
    " [0.9988446,  0.38451123, 0.5824223 ],\n",
    " [0.9914181,  0.26949236, 0.40489376],\n",
    " [0.9934047,  0.43699092, 0.28302386],\n",
    " [0.94576466, 0.12101901, 0.26865608],\n",
    " [0.98939824, 0.05212134, 0.73375547],\n",
    " [0.96903145, 0.05451264, 0.14050697],\n",
    " [0.9448109,  0.05394142, 0.29556298],\n",
    " [0.99340254, 0.49061453, 0.5890749 ],\n",
    " [0.999361,   0.17920253, 0.80180323],\n",
    " [0.99578285, 0.13809869, 0.30004403],\n",
    " [0.97858536, 0.42451566, 0.3268049 ],\n",
    " [0.98892576, 0.13881229, 0.2777154 ],\n",
    " [0.97478867, 0.03580572, 0.1404907 ],\n",
    " [0.9905021,  0.17709723, 0.4129564 ],\n",
    " [0.43958032, 0.03395558, 0.01652028]]"
   ]
  },
  {
   "cell_type": "code",
   "execution_count": 6,
   "metadata": {},
   "outputs": [],
   "source": [
    "actual_triple = [[0., 0., 0.],\n",
    " [0., 0., 0.],\n",
    " [0., 0., 0.],\n",
    " [0., 0., 0.],\n",
    " [0., 0., 0.],\n",
    " [0., 0., 0.],\n",
    " [0., 0., 0.],\n",
    " [0., 0., 0.],\n",
    " [0., 0., 0.],\n",
    " [0., 0., 0.],\n",
    " [0., 0., 0.],\n",
    " [0., 0., 0.],\n",
    " [0., 0., 0.],\n",
    " [0., 0., 0.],\n",
    " [0., 0., 0.],\n",
    " [0., 0., 0.],\n",
    " [0., 0., 0.],\n",
    " [0., 0., 0.],\n",
    " [0., 0., 0.],\n",
    " [0., 0., 0.],\n",
    " [0., 0., 0.],\n",
    " [0., 0., 0.],\n",
    " [0., 0., 0.],\n",
    " [0., 0., 0.],\n",
    " [1., 0., 0.],\n",
    " [1., 0., 0.],\n",
    " [1., 0., 0.],\n",
    " [1., 0., 0.],\n",
    " [1., 0., 0.],\n",
    " [1., 0., 0.],\n",
    " [1., 0., 0.],\n",
    " [1., 0., 0.],\n",
    " [1., 0., 0.],\n",
    " [1., 0., 0.],\n",
    " [1., 0., 0.],\n",
    " [1., 0., 0.],\n",
    " [1., 0., 0.],\n",
    " [1., 0., 0.],\n",
    " [1., 0., 0.],\n",
    " [1., 0., 0.],\n",
    " [1., 0., 0.],\n",
    " [1., 0., 0.],\n",
    " [1., 1., 1.],\n",
    " [1., 1., 1.],\n",
    " [1., 1., 1.],\n",
    " [1., 1., 0.],\n",
    " [1., 1., 1.],\n",
    " [1., 1., 0.],\n",
    " [1., 1., 0.],\n",
    " [1., 1., 0.],\n",
    " [1., 0., 0.],\n",
    " [1., 1., 0.],\n",
    " [1., 1., 0.],\n",
    " [1., 1., 0.],\n",
    " [1., 1., 1.],\n",
    " [1., 1., 0.],\n",
    " [1., 1., 1.],\n",
    " [1., 1., 0.],\n",
    " [1., 1., 1.],\n",
    " [1., 0., 0.],\n",
    " [1., 1., 0.],\n",
    " [1., 1., 1.],\n",
    " [1., 1., 1.],\n",
    " [1., 1., 0.],\n",
    " [1., 1., 1.],\n",
    " [1., 1., 1.],\n",
    " [1., 1., 1.],\n",
    " [1., 1., 1.],\n",
    " [1., 1., 0.],\n",
    " [1., 1., 1.],\n",
    " [1., 1., 0.],\n",
    " [1., 1., 1.],\n",
    " [1., 1., 1.],\n",
    " [1., 1., 1.],\n",
    " [1., 1., 0.],\n",
    " [1., 1., 1.],\n",
    " [1., 1., 0.],\n",
    " [1., 1., 1.],\n",
    " [1., 1., 0.],\n",
    " [1., 1., 0.],\n",
    " [1., 1., 0.],\n",
    " [1., 1., 1.],\n",
    " [1., 1., 0.],\n",
    " [1., 1., 1.],\n",
    " [1., 1., 0.],\n",
    " [1., 1., 0.],\n",
    " [1., 1., 1.],\n",
    " [0., 0., 0.],\n",
    " [1., 1., 0.],\n",
    " [1., 1., 0.],\n",
    " [1., 1., 1.],\n",
    " [1., 0., 1.],\n",
    " [1., 0., 1.],\n",
    " [1., 0., 1.],\n",
    " [1., 1., 1.],\n",
    " [1., 1., 1.],\n",
    " [1., 0., 1.],\n",
    " [1., 0., 1.],\n",
    " [1., 1., 1.],\n",
    " [1., 1., 1.],\n",
    " [1., 0., 1.],\n",
    " [1., 0., 1.],\n",
    " [1., 0., 1.],\n",
    " [1., 0., 1.],\n",
    " [1., 0., 1.],\n",
    " [1., 0., 1.],\n",
    " [1., 0., 1.],\n",
    " [1., 1., 1.],\n",
    " [1., 0., 1.],\n",
    " [1., 0., 1.],\n",
    " [1., 0., 1.],\n",
    " [1., 0., 1.],\n",
    " [1., 0., 1.],\n",
    " [1., 0., 1.],\n",
    " [1., 0., 1.],\n",
    " [1., 1., 1.],\n",
    " [1., 1., 1.],\n",
    " [1., 0., 1.],\n",
    " [1., 1., 1.],\n",
    " [1., 0., 1.]]"
   ]
  },
  {
   "cell_type": "code",
   "execution_count": 161,
   "metadata": {},
   "outputs": [],
   "source": [
    "preds_triple_abnormal = np.where(np.array(preds_triple)[:,0] > 0.5, 1, 0)\n",
    "actual_triple_abnormal = np.array(actual_triple)[:,0]"
   ]
  },
  {
   "cell_type": "code",
   "execution_count": 201,
   "metadata": {},
   "outputs": [
    {
     "name": "stdout",
     "output_type": "stream",
     "text": [
      "Confusion matrix:\n",
      "[[ 7 18]\n",
      " [ 2 93]]\n"
     ]
    },
    {
     "data": {
      "image/png": "[encoded data removed]",
      "text/plain": [
       "<Figure size 432x288 with 2 Axes>"
      ]
     },
     "metadata": {
      "needs_background": "light"
     },
     "output_type": "display_data"
    },
    {
     "data": {
      "text/plain": [
       "<matplotlib.axes._subplots.AxesSubplot at 0x7f4e724ea828>"
      ]
     },
     "execution_count": 201,
     "metadata": {},
     "output_type": "execute_result"
    }
   ],
   "source": [
    "plot_confusion_matrix(actual_triple_abnormal, preds_triple_abnormal, classes=[0,1], title=\"\")"
   ]
  },
  {
   "cell_type": "code",
   "execution_count": 178,
   "metadata": {},
   "outputs": [],
   "source": [
    "preds_triple_acl = np.where(np.array(preds_triple)[:,1] > 0.5, 1, 0)\n",
    "actual_triple_acl = np.array(actual_triple)[:,1]"
   ]
  },
  {
   "cell_type": "code",
   "execution_count": 203,
   "metadata": {},
   "outputs": [
    {
     "name": "stdout",
     "output_type": "stream",
     "text": [
      "Confusion matrix:\n",
      "[[61  5]\n",
      " [27 27]]\n"
     ]
    },
    {
     "data": {
      "image/png": "[encoded data removed]",
      "text/plain": [
       "<Figure size 432x288 with 2 Axes>"
      ]
     },
     "metadata": {
      "needs_background": "light"
     },
     "output_type": "display_data"
    },
    {
     "data": {
      "text/plain": [
       "<matplotlib.axes._subplots.AxesSubplot at 0x7f4e723e4a20>"
      ]
     },
     "execution_count": 203,
     "metadata": {},
     "output_type": "execute_result"
    }
   ],
   "source": [
    "plot_confusion_matrix(actual_triple_acl, preds_triple_acl, classes=[0,1], title=\"\")"
   ]
  },
  {
   "cell_type": "code",
   "execution_count": 166,
   "metadata": {},
   "outputs": [],
   "source": [
    "preds_triple_meniscus = np.where(np.array(preds_triple)[:,2] > 0.5, 1, 0)\n",
    "actual_triple_meniscus = np.array(actual_triple)[:,2]"
   ]
  },
  {
   "cell_type": "code",
   "execution_count": 205,
   "metadata": {},
   "outputs": [
    {
     "name": "stdout",
     "output_type": "stream",
     "text": [
      "Confusion matrix:\n",
      "[[53 15]\n",
      " [24 28]]\n"
     ]
    },
    {
     "data": {
      "image/png": "[encoded data removed]",
      "text/plain": [
       "<Figure size 432x288 with 2 Axes>"
      ]
     },
     "metadata": {
      "needs_background": "light"
     },
     "output_type": "display_data"
    },
    {
     "data": {
      "text/plain": [
       "<matplotlib.axes._subplots.AxesSubplot at 0x7f4e72de3860>"
      ]
     },
     "execution_count": 205,
     "metadata": {},
     "output_type": "execute_result"
    }
   ],
   "source": [
    "plot_confusion_matrix(actual_triple_meniscus, preds_triple_meniscus, classes=[0,1], title=\"\")"
   ]
  },
  {
   "cell_type": "code",
   "execution_count": 157,
   "metadata": {},
   "outputs": [],
   "source": [
    "preds_triple_abnormal = np.array(preds_triple)[:,0]\n",
    "preds_triple_acl = np.array(preds_triple)[:,1]\n",
    "preds_triple_meniscus = np.array(preds_triple)[:,2]\n",
    "\n",
    "fpr_abnormal, tpr_abnormal, thresholds_abnormal = metrics.roc_curve(actual_triple_abnormal, preds_triple_abnormal)\n",
    "fpr_acl, tpr_acl, thresholds_acl = metrics.roc_curve(actual_triple_acl, preds_triple_acl)\n",
    "fpr_meniscus, tpr_meniscus, thresholds_meniscus = metrics.roc_curve(actual_triple_meniscus, preds_triple_meniscus)\n",
    "\n",
    "auc_abnormal = roc_auc_score(actual_triple_abnormal, preds_triple_abnormal)\n",
    "auc_acl = roc_auc_score(actual_triple_acl, preds_triple_acl)\n",
    "auc_meniscus = roc_auc_score(actual_triple_meniscus, preds_triple_meniscus)"
   ]
  },
  {
   "cell_type": "code",
   "execution_count": 213,
   "metadata": {
    "scrolled": true
   },
   "outputs": [
    {
     "data": {
      "image/png": "[encoded data removed]",
      "text/plain": [
       "<Figure size 432x288 with 1 Axes>"
      ]
     },
     "metadata": {
      "needs_background": "light"
     },
     "output_type": "display_data"
    }
   ],
   "source": [
    "plt.figure()\n",
    "lw = 2\n",
    "plt.plot(fpr_abnormal, tpr_abnormal, color='darkorange',\n",
    "         lw=lw, label='Abnormal Task ROC curve (area = %0.2f)' % auc_abnormal)\n",
    "plt.plot(fpr_acl, tpr_acl, color='green',\n",
    "         lw=lw, label='ACL Task ROC curve (area = %0.2f)' % auc_acl)\n",
    "plt.plot(fpr_meniscus, tpr_meniscus, color='blue',\n",
    "         lw=lw, label='Meniscus Task ROC curve (area = %0.2f)' % auc_meniscus)\n",
    "        \n",
    "plt.plot([0, 1], [0, 1], color='red', lw=lw, linestyle='--')\n",
    "plt.xlim([0.0, 1.0])\n",
    "plt.ylim([0.0, 1.05])\n",
    "plt.xlabel('False Positive Rate', fontsize=16)\n",
    "plt.ylabel('True Positive Rate', fontsize=14)\n",
    "plt.title('Multitask Multiview MRNet: Receiver operating characteristic', fontsize=14)\n",
    "plt.legend(loc=\"lower right\", fontsize=12)\n",
    "plt.show()"
   ]
  },
  {
   "cell_type": "code",
   "execution_count": 214,
   "metadata": {},
   "outputs": [],
   "source": [
    "preds_lstm_acl_men = [[0.06494281, 0.22875725],\n",
    " [0.12176446, 0.4737536 ],\n",
    " [0.16009207, 0.20807417],\n",
    " [0.06678157, 0.14098118],\n",
    " [0.09997349, 0.5641605 ],\n",
    " [0.25137693, 0.6215353 ],\n",
    " [0.14189357, 0.27458638],\n",
    " [0.5680928,  0.83215594],\n",
    " [0.31870592, 0.4958333 ],\n",
    " [0.09721815, 0.5546469 ],\n",
    " [0.20851403, 0.85659295],\n",
    " [0.12581398, 0.7201382 ],\n",
    " [0.17069097, 0.6805766 ],\n",
    " [0.11578862, 0.6219205 ],\n",
    " [0.14979504, 0.7932994 ],\n",
    " [0.1246956,  0.48595592],\n",
    " [0.12637876, 0.33861813],\n",
    " [0.48259693, 0.33239898],\n",
    " [0.07669493, 0.38987398],\n",
    " [0.13391088, 0.25550658],\n",
    " [0.06572004, 0.60066426],\n",
    " [0.14407438, 0.77658767],\n",
    " [0.04152961, 0.13888885],\n",
    " [0.21752739, 0.37621394],\n",
    " [0.11645517, 0.45492354],\n",
    " [0.09117389, 0.7526709 ],\n",
    " [0.32493898, 0.8566722 ],\n",
    " [0.06445237, 0.60650885],\n",
    " [0.10026126, 0.70511675],\n",
    " [0.26039463, 0.6334025 ],\n",
    " [0.29401544, 0.85067844],\n",
    " [0.19005623, 0.7025196 ],\n",
    " [0.69771713, 0.87043977],\n",
    " [0.4154234,  0.6944478 ],\n",
    " [0.08887555, 0.18716289],\n",
    " [0.12190405, 0.56252   ],\n",
    " [0.09944922, 0.60812837],\n",
    " [0.09907196, 0.7393297 ],\n",
    " [0.09801662, 0.4158457 ],\n",
    " [0.30201873, 0.7541603 ],\n",
    " [0.23204465, 0.6403017 ],\n",
    " [0.46634883, 0.86033547],\n",
    " [0.2267336,  0.7166239 ],\n",
    " [0.34028804, 0.80463094],\n",
    " [0.8433812,  0.88891715],\n",
    " [0.6888472,  0.9012247 ],\n",
    " [0.72448236, 0.77105004],\n",
    " [0.6736492,  0.6778339 ],\n",
    " [0.25112307, 0.90743434],\n",
    " [0.6990642,  0.7585384 ],\n",
    " [0.20268962, 0.8884569 ],\n",
    " [0.36199927, 0.85867083],\n",
    " [0.736361,   0.79542255],\n",
    " [0.20819506, 0.9095821 ],\n",
    " [0.7770025,  0.95579135],\n",
    " [0.58083105, 0.81359076],\n",
    " [0.6618721,  0.89117914],\n",
    " [0.13380204, 0.8538549 ],\n",
    " [0.7535929,  0.8902668 ],\n",
    " [0.2827571,  0.81421494],\n",
    " [0.59799,    0.8674785 ],\n",
    " [0.7647229,  0.91005445],\n",
    " [0.40318736, 0.904156  ],\n",
    " [0.66815054, 0.8859236 ],\n",
    " [0.49117127, 0.8510961 ],\n",
    " [0.24882384, 0.8662495 ],\n",
    " [0.5654487,  0.9585606 ],\n",
    " [0.6441395,  0.7122315 ],\n",
    " [0.7623687,  0.823218  ],\n",
    " [0.80363137, 0.892746  ],\n",
    " [0.7787792,  0.6414959 ],\n",
    " [0.7436629,  0.8886708 ],\n",
    " [0.63447326, 0.8051716 ],\n",
    " [0.8182569,  0.9172477 ],\n",
    " [0.7576601,  0.930984  ],\n",
    " [0.57297647, 0.92298526],\n",
    " [0.6962305,  0.9505269 ],\n",
    " [0.88563067, 0.7810664 ],\n",
    " [0.62314266, 0.7727511 ],\n",
    " [0.8161495,  0.8746731 ],\n",
    " [0.69751084, 0.8110391 ],\n",
    " [0.4964034,  0.9471644 ],\n",
    " [0.42352226, 0.66480386],\n",
    " [0.84309006, 0.92050976],\n",
    " [0.6927418,  0.94483054],\n",
    " [0.67870176, 0.8313418 ],\n",
    " [0.2455006,  0.75035566],\n",
    " [0.11847535, 0.3233945 ],\n",
    " [0.18686458, 0.53868824],\n",
    " [0.24429774, 0.6144658 ],\n",
    " [0.78262925, 0.8704792 ],\n",
    " [0.25594538, 0.91382426],\n",
    " [0.208296,   0.7890509 ],\n",
    " [0.4929808,  0.9466256 ],\n",
    " [0.67406094, 0.9610542 ],\n",
    " [0.6357522,  0.76690924],\n",
    " [0.19390124, 0.94258314],\n",
    " [0.63988936, 0.949377  ],\n",
    " [0.6390132,  0.84232104],\n",
    " [0.76154274, 0.87687814],\n",
    " [0.7239099,  0.8964539 ],\n",
    " [0.19727492, 0.9234904 ],\n",
    " [0.30984125, 0.9001401 ],\n",
    " [0.28256452, 0.8951708 ],\n",
    " [0.51172405, 0.7979672 ],\n",
    " [0.2416611,  0.9253834 ],\n",
    " [0.21623789, 0.90184784],\n",
    " [0.44468477, 0.7743706 ],\n",
    " [0.10679573, 0.67202944],\n",
    " [0.14844587, 0.86165714],\n",
    " [0.1815476,  0.5779948 ],\n",
    " [0.11212734, 0.5950462 ],\n",
    " [0.39303157, 0.88910097],\n",
    " [0.2671111,  0.9370525 ],\n",
    " [0.11342208, 0.7020024 ],\n",
    " [0.5797738,  0.8246903 ],\n",
    " [0.16405475, 0.7299245 ],\n",
    " [0.09376838, 0.80115074],\n",
    " [0.49631506, 0.7429982 ],\n",
    " [0.09688163, 0.22345452]]"
   ]
  },
  {
   "cell_type": "code",
   "execution_count": 242,
   "metadata": {},
   "outputs": [],
   "source": [
    "preds_lstm_abnormal = [[0.13644959],\n",
    " [0.21391375],\n",
    " [0.38103488],\n",
    " [0.07287169],\n",
    " [0.6288975 ],\n",
    " [0.6861632 ],\n",
    " [0.23671065],\n",
    " [0.89124155],\n",
    " [0.23848988],\n",
    " [0.16755402],\n",
    " [0.83938617],\n",
    " [0.8625134 ],\n",
    " [0.5872031 ],\n",
    " [0.33856577],\n",
    " [0.84521115],\n",
    " [0.699943  ],\n",
    " [0.37617907],\n",
    " [0.38023376],\n",
    " [0.6412508 ],\n",
    " [0.22093946],\n",
    " [0.16740958],\n",
    " [0.84164834],\n",
    " [0.3034695 ],\n",
    " [0.28891233],\n",
    " [0.24085547],\n",
    " [0.9601698 ],\n",
    " [0.94965076],\n",
    " [0.35799724],\n",
    " [0.90952796],\n",
    " [0.5877284 ],\n",
    " [0.8109994 ],\n",
    " [0.6871831 ],\n",
    " [0.94610095],\n",
    " [0.93878496],\n",
    " [0.15103577],\n",
    " [0.4852353 ],\n",
    " [0.9245459 ],\n",
    " [0.70795447],\n",
    " [0.57035553],\n",
    " [0.9672619 ],\n",
    " [0.9037582 ],\n",
    " [0.9755908 ],\n",
    " [0.74397796],\n",
    " [0.9471347 ],\n",
    " [0.9711178 ],\n",
    " [0.798237  ],\n",
    " [0.96966827],\n",
    " [0.81508344],\n",
    " [0.95607316],\n",
    " [0.8304016 ],\n",
    " [0.95045096],\n",
    " [0.91919154],\n",
    " [0.8483532 ],\n",
    " [0.9508356 ],\n",
    " [0.98012483],\n",
    " [0.84576565],\n",
    " [0.9281349 ],\n",
    " [0.97386235],\n",
    " [0.9741779 ],\n",
    " [0.8657825 ],\n",
    " [0.90155524],\n",
    " [0.9691823 ],\n",
    " [0.85876036],\n",
    " [0.9371959 ],\n",
    " [0.94455636],\n",
    " [0.90544575],\n",
    " [0.9883415 ],\n",
    " [0.6979354 ],\n",
    " [0.93817025],\n",
    " [0.88946855],\n",
    " [0.31422335],\n",
    " [0.91418356],\n",
    " [0.7655535 ],\n",
    " [0.979509  ],\n",
    " [0.9937582 ],\n",
    " [0.9777353 ],\n",
    " [0.96779156],\n",
    " [0.89793265],\n",
    " [0.84689724],\n",
    " [0.97084683],\n",
    " [0.96645576],\n",
    " [0.99036413],\n",
    " [0.6872935 ],\n",
    " [0.979322  ],\n",
    " [0.98341495],\n",
    " [0.82679814],\n",
    " [0.9514193 ],\n",
    " [0.39314252],\n",
    " [0.6059439 ],\n",
    " [0.8704701 ],\n",
    " [0.93673414],\n",
    " [0.98541945],\n",
    " [0.8895481 ],\n",
    " [0.9838446 ],\n",
    " [0.9890366 ],\n",
    " [0.82973874],\n",
    " [0.9830692 ],\n",
    " [0.98534167],\n",
    " [0.87750745],\n",
    " [0.95861393],\n",
    " [0.96205515],\n",
    " [0.98701084],\n",
    " [0.93337023],\n",
    " [0.89951384],\n",
    " [0.8892793 ],\n",
    " [0.9720804 ],\n",
    " [0.8908769 ],\n",
    " [0.9063079 ],\n",
    " [0.9028748 ],\n",
    " [0.9611488 ],\n",
    " [0.8864378 ],\n",
    " [0.7596002 ],\n",
    " [0.9406869 ],\n",
    " [0.97836226],\n",
    " [0.8526699 ],\n",
    " [0.8492593 ],\n",
    " [0.89757717],\n",
    " [0.9294944 ],\n",
    " [0.85360634],\n",
    " [0.42250147]]"
   ]
  },
  {
   "cell_type": "code",
   "execution_count": 247,
   "metadata": {},
   "outputs": [],
   "source": [
    "preds_lstm_abnormal = np.where(np.array(preds_lstm_abnormal) > 0.5, 1, 0)\n",
    "actual_lstm_abnormal = np.array(actual_triple)[:,0]"
   ]
  },
  {
   "cell_type": "code",
   "execution_count": 248,
   "metadata": {},
   "outputs": [],
   "source": [
    "preds_lstm_acl = np.where(np.array(preds_lstm_acl_men)[:,0] > 0.5, 1, 0)\n",
    "actual_lstm_acl = np.array(actual_triple)[:,1]"
   ]
  },
  {
   "cell_type": "code",
   "execution_count": 249,
   "metadata": {},
   "outputs": [],
   "source": [
    "preds_lstm_men = np.where(np.array(preds_lstm_acl_men)[:,1] > 0.5, 1, 0)\n",
    "actual_lstm_men = np.array(actual_triple)[:,2]"
   ]
  },
  {
   "cell_type": "code",
   "execution_count": 243,
   "metadata": {},
   "outputs": [],
   "source": [
    "preds_lstm_abnormal = np.array(preds_lstm_abnormal)\n",
    "preds_lstm_acl = np.array(preds_lstm_acl_men)[:,0]\n",
    "preds_lstm_men = np.array(preds_lstm_acl_men)[:,1] \n",
    "\n",
    "fpr_abnormal, tpr_abnormal, thresholds_abnormal = metrics.roc_curve(actual_lstm_abnormal, preds_lstm_abnormal)\n",
    "fpr_acl, tpr_acl, thresholds_acl = metrics.roc_curve(actual_lstm_acl, preds_lstm_acl)\n",
    "fpr_meniscus, tpr_meniscus, thresholds_meniscus = metrics.roc_curve(actual_lstm_men, preds_lstm_men)\n",
    "\n",
    "auc_abnormal = roc_auc_score(actual_lstm_abnormal, preds_lstm_abnormal)\n",
    "auc_acl = roc_auc_score(actual_lstm_acl, preds_lstm_acl)\n",
    "auc_meniscus = roc_auc_score(actual_lstm_men, preds_lstm_men)"
   ]
  },
  {
   "cell_type": "code",
   "execution_count": 245,
   "metadata": {},
   "outputs": [
    {
     "data": {
      "image/png": "[encoded data removed]",
      "text/plain": [
       "<Figure size 432x288 with 1 Axes>"
      ]
     },
     "metadata": {
      "needs_background": "light"
     },
     "output_type": "display_data"
    }
   ],
   "source": [
    "plt.figure()\n",
    "lw = 2\n",
    "plt.plot(fpr_abnormal, tpr_abnormal, color='darkorange',\n",
    "         lw=lw, label='Abnormal Task ROC curve (area = %0.2f)' % auc_abnormal)\n",
    "plt.plot(fpr_acl, tpr_acl, color='green',\n",
    "         lw=lw, label='ACL Task ROC curve (area = %0.2f)' % auc_acl)\n",
    "plt.plot(fpr_meniscus, tpr_meniscus, color='blue',\n",
    "         lw=lw, label='Meniscus Task ROC curve (area = %0.2f)' % auc_meniscus)\n",
    "        \n",
    "plt.plot([0, 1], [0, 1], color='red', lw=lw, linestyle='--')\n",
    "plt.xlim([0.0, 1.0])\n",
    "plt.ylim([0.0, 1.05])\n",
    "plt.xlabel('False Positive Rate', fontsize=16)\n",
    "plt.ylabel('True Positive Rate', fontsize=14)\n",
    "plt.title('CNN + LSTM: Receiver operating characteristic', fontsize=14)\n",
    "plt.legend(loc=\"lower right\", fontsize=12)\n",
    "plt.savefig(\"ROC_CNN_LSTM\")"
   ]
  },
  {
   "cell_type": "code",
   "execution_count": 250,
   "metadata": {},
   "outputs": [
    {
     "name": "stdout",
     "output_type": "stream",
     "text": [
      "Confusion matrix:\n",
      "[[15 10]\n",
      " [ 6 89]]\n"
     ]
    },
    {
     "data": {
      "image/png": "[encoded data removed]",
      "text/plain": [
       "<Figure size 432x288 with 2 Axes>"
      ]
     },
     "metadata": {
      "needs_background": "light"
     },
     "output_type": "display_data"
    },
    {
     "data": {
      "text/plain": [
       "<matplotlib.axes._subplots.AxesSubplot at 0x7f4e71dcb748>"
      ]
     },
     "execution_count": 250,
     "metadata": {},
     "output_type": "execute_result"
    }
   ],
   "source": [
    "plot_confusion_matrix(actual_lstm_abnormal, preds_lstm_abnormal, classes=[0,1], title=\"\")"
   ]
  },
  {
   "cell_type": "code",
   "execution_count": 251,
   "metadata": {},
   "outputs": [
    {
     "name": "stdout",
     "output_type": "stream",
     "text": [
      "Confusion matrix:\n",
      "[[61  5]\n",
      " [17 37]]\n"
     ]
    },
    {
     "data": {
      "image/png": "[encoded data removed]",
      "text/plain": [
       "<Figure size 432x288 with 2 Axes>"
      ]
     },
     "metadata": {
      "needs_background": "light"
     },
     "output_type": "display_data"
    },
    {
     "data": {
      "text/plain": [
       "<matplotlib.axes._subplots.AxesSubplot at 0x7f4e71dcb5f8>"
      ]
     },
     "execution_count": 251,
     "metadata": {},
     "output_type": "execute_result"
    }
   ],
   "source": [
    "plot_confusion_matrix(actual_lstm_acl, preds_lstm_acl, classes=[0,1], title=\"\")"
   ]
  },
  {
   "cell_type": "code",
   "execution_count": 252,
   "metadata": {},
   "outputs": [
    {
     "name": "stdout",
     "output_type": "stream",
     "text": [
      "Confusion matrix:\n",
      "[[17 51]\n",
      " [ 1 51]]\n"
     ]
    },
    {
     "data": {
      "image/png": "[encoded data removed]",
      "text/plain": [
       "<Figure size 432x288 with 2 Axes>"
      ]
     },
     "metadata": {
      "needs_background": "light"
     },
     "output_type": "display_data"
    },
    {
     "data": {
      "text/plain": [
       "<matplotlib.axes._subplots.AxesSubplot at 0x7f4e71c23dd8>"
      ]
     },
     "execution_count": 252,
     "metadata": {},
     "output_type": "execute_result"
    }
   ],
   "source": [
    "plot_confusion_matrix(actual_lstm_men, preds_lstm_men, classes=[0,1], title=\"\")"
   ]
  },
  {
   "cell_type": "code",
   "execution_count": null,
   "metadata": {},
   "outputs": [],
   "source": []
  }
 ],
 "metadata": {
  "kernelspec": {
   "display_name": "Python [conda env:root] *",
   "language": "python",
   "name": "conda-root-py"
  },
  "language_info": {
   "codemirror_mode": {
    "name": "ipython",
    "version": 3
   },
   "file_extension": ".py",
   "mimetype": "text/x-python",
   "name": "python",
   "nbconvert_exporter": "python",
   "pygments_lexer": "ipython3",
   "version": "3.7.3"
  }
 },
 "nbformat": 4,
 "nbformat_minor": 2
}
